{
 "cells": [
  {
   "cell_type": "code",
   "execution_count": 1,
   "id": "d2b22d14-4764-4646-af62-b3b946a2d9f6",
   "metadata": {},
   "outputs": [
    {
     "name": "stdout",
     "output_type": "stream",
     "text": [
      "Private Key: 9df4983a24e077a5e82cd9c4a64d15ecea388675c2a05f9e4962abe5a883cdf8n\n",
      "Public Key: 041b29b8e963e0ba3773f54fcf2caac8d641acc4e38fcbf7c2a2c73833fcd9861474e8ed2c9e770eba87bff9f06942645fc0dddbfc5d1b0c9d4328ff7e7c926dd5n\n",
      "Bitcoin Address: 1B2ZvNcUHmNpZtRaCwCpMb9Z7uEoG759Dnn\n"
     ]
    }
   ],
   "source": [
    "#OG Bitcoin mining algorithm in Python\n",
    "\n",
    "from bitcoin import *\n",
    "\n",
    "#Generate private key\n",
    "my_private_key = random_key()\n",
    "\n",
    "#display private key\n",
    "print(\"Private Key: %sn\" % my_private_key)\n",
    "\n",
    "#Generate public key\n",
    "my_public_key = privtopub(my_private_key)\n",
    "print(\"Public Key: %sn\" % my_public_key)\n",
    "\n",
    "#Create a bitcoin address\n",
    "my_bitcoin_address = pubtoaddr(my_public_key)\n",
    "print(\"Bitcoin Address: %sn\" % my_bitcoin_address)"
   ]
  },
  {
   "cell_type": "code",
   "execution_count": 2,
   "id": "2d44ac74-ca39-42af-a996-b1406be83da8",
   "metadata": {},
   "outputs": [
    {
     "data": {
      "text/plain": [
       "'b5d4045c3f466fa91fe2cc6abe79232a1a57cdf104f7a26e716e0a1e2789df78'"
      ]
     },
     "execution_count": 2,
     "metadata": {},
     "output_type": "execute_result"
    }
   ],
   "source": [
    "from hashlib import sha256\n",
    "sha256(\"ABC\".encode(\"ascii\")).hexdigest()"
   ]
  },
  {
   "cell_type": "code",
   "execution_count": 3,
   "id": "8ac66e33-956f-4dc6-983c-ce94d2cebae1",
   "metadata": {},
   "outputs": [],
   "source": [
    "def SHA256(text):\n",
    "  return sha256(text.encode(\"ascii\")).hexdigest()\n",
    "    \n",
    "MAX_NONCE=10000000        # You can also use a while loop to run infinitely with no upper limit\n",
    "\n",
    "def mine(block_number,transaction,previous_hash,prefix_zeros):\n",
    "  prefix_str='0'*prefix_zeros\n",
    "  for nonce in range(MAX_NONCE):\n",
    "    text= str(block_number) + transaction + previous_hash + str(nonce)\n",
    "    hash = SHA256(text)\n",
    "    # print(hash)\n",
    "    if hash.startswith(prefix_str):\n",
    "      print(\"Bitcoin mined with nonce value :\",nonce)\n",
    "      return hash\n",
    "  print(\"Could not find a hash in the given range of upto\", MAX_NONCE)"
   ]
  },
  {
   "cell_type": "code",
   "execution_count": 5,
   "id": "fb054a39-dac0-4f88-b368-31ad406cbc34",
   "metadata": {},
   "outputs": [
    {
     "name": "stdout",
     "output_type": "stream",
     "text": [
      "Bitcoin mined with nonce value : 2387325\n",
      "Hash value :  00000f5254db00fa0dde976d53bb39c11f9350292949493943a90610d62c1a5e\n",
      "The mining process took  36.441466331481934 seconds\n"
     ]
    }
   ],
   "source": [
    "transactions='''\n",
    "A->B->10\n",
    "B->c->5\n",
    "'''\n",
    "difficulty = 5\n",
    "import time as t\n",
    "begin=t.time()\n",
    "new_hash = mine(684260,transactions,\"000000000000000000006bd3d6ef94d8a01de84e171d3553534783b128f06aad\",difficulty)\n",
    "print(\"Hash value : \",new_hash)\n",
    "time_taken=t.time()- begin\n",
    "print(\"The mining process took \",time_taken,\"seconds\")"
   ]
  },
  {
   "cell_type": "code",
   "execution_count": null,
   "id": "59711338-a552-441b-b994-d1d901f709b2",
   "metadata": {},
   "outputs": [],
   "source": []
  },
  {
   "cell_type": "code",
   "execution_count": null,
   "id": "3352ea6e-62a8-481a-9210-d67d4490b00f",
   "metadata": {},
   "outputs": [],
   "source": []
  },
  {
   "cell_type": "code",
   "execution_count": null,
   "id": "e827e308-3bbd-49bb-9ce0-8453576971f3",
   "metadata": {},
   "outputs": [],
   "source": []
  }
 ],
 "metadata": {
  "kernelspec": {
   "display_name": "Python 3 (ipykernel)",
   "language": "python",
   "name": "python3"
  },
  "language_info": {
   "codemirror_mode": {
    "name": "ipython",
    "version": 3
   },
   "file_extension": ".py",
   "mimetype": "text/x-python",
   "name": "python",
   "nbconvert_exporter": "python",
   "pygments_lexer": "ipython3",
   "version": "3.9.0"
  }
 },
 "nbformat": 4,
 "nbformat_minor": 5
}
